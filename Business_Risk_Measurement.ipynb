{
  "nbformat": 4,
  "nbformat_minor": 0,
  "metadata": {
    "colab": {
      "name": "Business_Risk_Measurement.ipynb",
      "provenance": [],
      "authorship_tag": "ABX9TyNqTRqbCsoI8ydflPoKZQcK"
    },
    "kernelspec": {
      "name": "python3",
      "display_name": "Python 3"
    },
    "language_info": {
      "name": "python"
    }
  },
  "cells": [
    {
      "cell_type": "markdown",
      "metadata": {
        "id": "mkIra0GQIqQd"
      },
      "source": [
        "**Business Risk Measurement**"
      ]
    },
    {
      "cell_type": "markdown",
      "metadata": {
        "id": "70SHMTCEKEGV"
      },
      "source": [
        "Business risk represents external and internal factors that may lead a company to a reduction of profits or even bankruptcy.\n",
        "\n",
        "To standardise business risk metrics and enable comparison across firms of different sizes, we can use the coefficient of variation. The coefficient of variation is computed by dividing standard deviation by the mean.\n",
        "\n",
        "Below is an example on how can we calculate the coefficient of variation for sales:\n",
        "\n",
        "Revenues Coefficient of Variation = Standard Deviation Revenues / Revenues Mean\n",
        "\n",
        "By using the coefficient of variation instead of the standard deviation, we can compare business risk across firms of different sizes."
      ]
    },
    {
      "cell_type": "markdown",
      "metadata": {
        "id": "Ba_WgEhqJt_L"
      },
      "source": [
        "![risk2.jpg](data:image/jpeg;base64,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)"
      ]
    },
    {
      "cell_type": "markdown",
      "metadata": {
        "id": "84Qw_BIdKwS7"
      },
      "source": [
        "**Importing libraries**"
      ]
    },
    {
      "cell_type": "code",
      "metadata": {
        "id": "owYj8FvYlyNy"
      },
      "source": [
        "import requests\n",
        "import numpy"
      ],
      "execution_count": null,
      "outputs": []
    },
    {
      "cell_type": "markdown",
      "metadata": {
        "id": "zEo8TWQwK4wR"
      },
      "source": [
        "**Web Scraping API Key**\n",
        "\n",
        "we will use an API, financialmodelingprep. It offers around 200 free API calls per day upon registration. With this API, we can extract company revenues, operating income and net income for the last years.\n",
        "\n",
        "To extract each company metrics, we simply pass the company ticker to the url as per below. "
      ]
    },
    {
      "cell_type": "code",
      "metadata": {
        "id": "yXZL4eS-pFCm"
      },
      "source": [
        "demo = 'c9d6dc095a11a670bfad86183c30ae19'\n",
        "stocks = ['AAPL','MSFT','GOOG']"
      ],
      "execution_count": null,
      "outputs": []
    },
    {
      "cell_type": "markdown",
      "metadata": {
        "id": "wpeXkINrLXgJ"
      },
      "source": [
        "**Final Code**\n",
        "\n",
        "To keep things simple, we will only calculate business risk based on sales, operating income and net income. And we will use the coefficient of variation for that purpose.\n",
        "\n",
        "We will start with a list of 3 stocks, Apple, Microsoft and Google. Then we will compare business risk across them. \n",
        "Then, we append the extracted values into a list. Each of the list will contain the latest 5 year company revenues, operating income and net income."
      ]
    },
    {
      "cell_type": "code",
      "metadata": {
        "colab": {
          "base_uri": "https://localhost:8080/"
        },
        "id": "60QPuIijpWr5",
        "outputId": "623e4d14-9592-4a3c-d729-bca506bbd7ce"
      },
      "source": [
        "for stock in stocks:\n",
        "  income_statement = requests.get(f'https://financialmodelingprep.com/api/v3/income-statement/{stock}?apikey={demo}').json()\n",
        "\n",
        "  number_of_years = 0\n",
        "\n",
        "  revenues = []\n",
        "  operating_income = []\n",
        "  net_income = []\n",
        "\n",
        "  for item in income_statement:\n",
        "    if number_of_years < 5:\n",
        "      revenues.append(income_statement[number_of_years]['revenue'])\n",
        "      operating_income.append(income_statement[number_of_years]['operatingIncome'])\n",
        "      net_income.append(income_statement[number_of_years]['netIncome'])\n",
        "      number_of_years += 1\n",
        "  print('REVENUES',revenues)\n",
        "  print('OPERATING INCOME',operating_income)\n",
        "  print('NET INCOME',net_income)\n",
        "  print(stock)\n",
        "  revenues_array = numpy.array(revenues)\n",
        "  operating_income_array = numpy.array(operating_income)\n",
        "  net_income_array = numpy.array(net_income)\n",
        "  CV_Sales = revenues_array.std() / revenues_array.mean()\n",
        "  print('Revenue Coefficient of Variation for '+ stock + ' is ' + str(round(CV_Sales,2)))\n",
        "  CV_OI = operating_income_array.std() / operating_income_array.mean()\n",
        "  print('Operating Income Coefficient of Variation for '+ stock + ' is ' + str(round(CV_OI,2)))\n",
        "  CV_Net_Income = net_income_array.std() / net_income_array.mean()\n",
        "  print('Net Income Coefficient of Variation for '+ stock + ' is ' + str(round(CV_Net_Income,2)) +'\\n')\n",
        "\n",
        "\n"
      ],
      "execution_count": null,
      "outputs": [
        {
          "output_type": "stream",
          "text": [
            "REVENUES [274515000000, 260174000000, 265595000000, 229234000000, 215639000000]\n",
            "OPERATING INCOME [66288000000, 63930000000, 70898000000, 61344000000, 60024000000]\n",
            "NET INCOME [57411000000, 55256000000, 59531000000, 48351000000, 45687000000]\n",
            "AAPL\n",
            "Revenue Coefficient of Variation for AAPL is 0.09\n",
            "Operating Income Coefficient of Variation for AAPL is 0.06\n",
            "Net Income Coefficient of Variation for AAPL is 0.1\n",
            "\n",
            "REVENUES [143015000000, 125843000000, 110360000000, 89950000000, 85320000000]\n",
            "OPERATING INCOME [52959000000, 42959000000, 35058000000, 22632000000, 21292000000]\n",
            "NET INCOME [44281000000, 39240000000, 16571000000, 21204000000, 16798000000]\n",
            "MSFT\n",
            "Revenue Coefficient of Variation for MSFT is 0.2\n",
            "Operating Income Coefficient of Variation for MSFT is 0.34\n",
            "Net Income Coefficient of Variation for MSFT is 0.43\n",
            "\n",
            "REVENUES [182527000000, 161857000000, 136819000000, 110855000000, 90272000000]\n",
            "OPERATING INCOME [41224000000, 34231000000, 27524000000, 26178000000, 23716000000]\n",
            "NET INCOME [40269000000, 34343000000, 30736000000, 12662000000, 19478000000]\n",
            "GOOG\n",
            "Revenue Coefficient of Variation for GOOG is 0.24\n",
            "Operating Income Coefficient of Variation for GOOG is 0.21\n",
            "Net Income Coefficient of Variation for GOOG is 0.37\n",
            "\n"
          ],
          "name": "stdout"
        }
      ]
    },
    {
      "cell_type": "markdown",
      "metadata": {
        "id": "XBWgnN9tLtvG"
      },
      "source": [
        "**Observation from output**\n",
        "\n",
        "By taking revenue, operating income and net income as proxy to measure business risk, and based on the last 5 years data, we can see that Apple is by far the company with the lower business risk. It has a variation of around 0.09\n",
        "\n",
        "On the other side, Google has a much higher business risk with a sales variation coefficient of 0.24. The other two metrics, operating income and net income, seems to support this finding as well.\n",
        "\n",
        "To complement the analysis, we could calculate the variation for some other financials. For instance, account receivables or company debt.\n",
        "\n",
        "As an important note, keep in mind that past variation may not always be a good indication for future variation. There may be significant and unexpected events happening in the future which may impact company financials"
      ]
    }
  ]
}